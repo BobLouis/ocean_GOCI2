{
 "cells": [
  {
   "cell_type": "code",
   "execution_count": null,
   "metadata": {},
   "outputs": [],
   "source": [
    "from sklearn.neural_network import MLPClassifier\n",
    "from sklearn.metrics import accuracy_score, precision_score, recall_score, f1_score, roc_auc_score\n",
    "from sklearn.model_selection import GridSearchCV\n",
    "from sklearn.linear_model import LogisticRegression\n",
    "from mlxtend.plotting import plot_confusion_matrix\n",
    "from sklearn.metrics import confusion_matrix, classification_report, roc_curve, roc_auc_score, auc\n",
    "from sklearn.naive_bayes import GaussianNB\n",
    "from sklearn.ensemble import RandomForestClassifier\n",
    "from xgboost import XGBClassifier\n",
    "from sklearn.tree import DecisionTreeClassifier\n",
    "from sklearn import tree\n",
    "from sklearn.neighbors import KNeighborsClassifier\n",
    "from sklearn.svm import SVC\n",
    "from sklearn.model_selection import train_test_split\n",
    "from sklearn.preprocessing import StandardScaler\n",
    "from imblearn.over_sampling import SMOTE\n",
    "import seaborn as sns\n",
    "import pandas as pd\n",
    "import numpy as np\n",
    "import matplotlib.pyplot as plt\n",
    "import xlrd\n",
    "import random\n",
    "from sklearn.neural_network import MLPRegressor\n",
    "from sklearn.metrics import mean_absolute_error, mean_squared_error, r2_score\n",
    "from math import sqrt"
   ]
  },
  {
   "cell_type": "code",
   "execution_count": null,
   "metadata": {},
   "outputs": [],
   "source": [
    "data_set = '091902'"
   ]
  },
  {
   "cell_type": "markdown",
   "metadata": {},
   "source": [
    "把科學記號改成十進位"
   ]
  },
  {
   "cell_type": "markdown",
   "metadata": {},
   "source": [
    "### Train"
   ]
  },
  {
   "cell_type": "markdown",
   "metadata": {},
   "source": [
    "用這個模型測原本的"
   ]
  },
  {
   "cell_type": "code",
   "execution_count": null,
   "metadata": {},
   "outputs": [],
   "source": [
    "import joblib\n",
    "import pandas as pd\n",
    "from sklearn.metrics import mean_absolute_error, mean_squared_error, r2_score\n",
    "from math import sqrt\n",
    "# 載入已保存的模型\n",
    "loaded_model = joblib.load(f'model/mlp_regressor_model_{data_set}_30_10%.pkl')\n",
    "print(\"模型已成功載入\")\n",
    "\n",
    "# 讀取新的測試資料\n",
    "new_test_data = pd.read_csv(f\"data_all/{data_set}.csv\")\n",
    "\n",
    "# 選擇所需的特徵列\n",
    "selected_columns = ['Albedo_01', 'Albedo_02', 'Albedo_03', 'Albedo_04']\n",
    "X_new_test = new_test_data[selected_columns]\n",
    "\n",
    "# 標準化數據\n",
    "scaler = StandardScaler()\n",
    "X_new_test = scaler.fit_transform(X_new_test)\n",
    "\n",
    "# 使用模型進行預測\n",
    "new_test_predictions = loaded_model.predict(X_new_test)\n",
    "\n",
    "# 將預測結果添加到資料框\n",
    "new_test_data['Predicted_Chlorophyll'] = new_test_predictions\n",
    "\n",
    "# 如果新測試資料包含實際的 Chlorophyll 值，計算評估指標\n",
    "if 'Chlorophyll' in new_test_data.columns:\n",
    "    # 計算誤差度量（MAE, RMSE, R2）\n",
    "    mae = mean_absolute_error(new_test_data['Chlorophyll'], new_test_predictions)\n",
    "    rmse = sqrt(mean_squared_error(new_test_data['Chlorophyll'], new_test_predictions))\n",
    "    r2 = r2_score(new_test_data['Chlorophyll'], new_test_predictions)\n",
    "\n",
    "    print(f\"New Test MAE: {mae}\")\n",
    "    print(f\"New Test RMSE: {rmse}\")\n",
    "    print(f\"New Test R2: {r2}\")\n",
    "\n",
    "# 保存預測結果到新的CSV文件\n",
    "new_test_data.to_csv(\"data_output/new_test_predictions.csv\", index=False, encoding='utf-8-sig')\n",
    "print(\"新的測試預測結果已保存為 'data/new_test_predictions.csv'\")"
   ]
  },
  {
   "cell_type": "markdown",
   "metadata": {},
   "source": [
    "繪製實際值與預測值對比圖"
   ]
  },
  {
   "cell_type": "code",
   "execution_count": null,
   "metadata": {},
   "outputs": [],
   "source": [
    "import matplotlib.pyplot as plt\n",
    "\n",
    "# 如果有實際的 Chlorophyll 值，繪製實際值與預測值的對比圖\n",
    "if 'Chlorophyll' in new_test_data.columns:\n",
    "    plt.figure(figsize=(10, 6))\n",
    "    plt.scatter(new_test_data['Chlorophyll'], new_test_data['Predicted_Chlorophyll'], alpha=0.002, color='purple')\n",
    "    plt.plot([new_test_data['Chlorophyll'].min(), new_test_data['Chlorophyll'].max()], \n",
    "             [new_test_data['Chlorophyll'].min(), new_test_data['Chlorophyll'].max()], 'r--', lw=2)\n",
    "    plt.title('Actual vs Predicted Chlorophyll for New Test Data')\n",
    "    plt.xlabel('Actual Chlorophyll')\n",
    "    plt.ylabel('Predicted Chlorophyll')\n",
    "    plt.grid(True)\n",
    "    plt.show()\n",
    "else:\n",
    "    # 如果沒有實際值，只繪製預測值的分布圖\n",
    "    plt.figure(figsize=(10, 6))\n",
    "    plt.scatter(range(len(new_test_predictions)), new_test_predictions, alpha=0.002, color='purple')\n",
    "    plt.title('Predicted Chlorophyll for New Test Data')\n",
    "    plt.xlabel('Sample Index')\n",
    "    plt.ylabel('Predicted Chlorophyll')\n",
    "    plt.grid(True)\n",
    "    plt.show()"
   ]
  }
 ],
 "metadata": {
  "kernelspec": {
   "display_name": "big_data",
   "language": "python",
   "name": "python3"
  },
  "language_info": {
   "codemirror_mode": {
    "name": "ipython",
    "version": 3
   },
   "file_extension": ".py",
   "mimetype": "text/x-python",
   "name": "python",
   "nbconvert_exporter": "python",
   "pygments_lexer": "ipython3",
   "version": "3.9.12"
  }
 },
 "nbformat": 4,
 "nbformat_minor": 2
}
